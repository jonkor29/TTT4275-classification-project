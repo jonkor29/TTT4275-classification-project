{
 "cells": [
  {
   "cell_type": "code",
   "execution_count": 290,
   "metadata": {},
   "outputs": [],
   "source": [
    "import numpy as np\n",
    "import matplotlib.pyplot as plt \n",
    "import seaborn as sns\n",
    "\n",
    "from sklearn.datasets import load_iris\n",
    "from sklearn.model_selection import train_test_split\n",
    "from sklearn.metrics import confusion_matrix"
   ]
  },
  {
   "cell_type": "code",
   "execution_count": 291,
   "metadata": {},
   "outputs": [
    {
     "name": "stdout",
     "output_type": "stream",
     "text": [
      ".. _iris_dataset:\n",
      "\n",
      "Iris plants dataset\n",
      "--------------------\n",
      "\n",
      "**Data Set Characteristics:**\n",
      "\n",
      "    :Number of Instances: 150 (50 in each of three classes)\n",
      "    :Number of Attributes: 4 numeric, predictive attributes and the class\n",
      "    :Attribute Information:\n",
      "        - sepal length in cm\n",
      "        - sepal width in cm\n",
      "        - petal length in cm\n",
      "        - petal width in cm\n",
      "        - class:\n",
      "                - Iris-Setosa\n",
      "                - Iris-Versicolour\n",
      "                - Iris-Virginica\n",
      "                \n",
      "    :Summary Statistics:\n",
      "\n",
      "    ============== ==== ==== ======= ===== ====================\n",
      "                    Min  Max   Mean    SD   Class Correlation\n",
      "    ============== ==== ==== ======= ===== ====================\n",
      "    sepal length:   4.3  7.9   5.84   0.83    0.7826\n",
      "    sepal width:    2.0  4.4   3.05   0.43   -0.4194\n",
      "    petal length:   1.0  6.9   3.76   1.76    0.9490  (high!)\n",
      "    petal width:    0.1  2.5   1.20   0.76    0.9565  (high!)\n",
      "    ============== ==== ==== ======= ===== ====================\n",
      "\n",
      "    :Missing Attribute Values: None\n",
      "    :Class Distribution: 33.3% for each of 3 classes.\n",
      "    :Creator: R.A. Fisher\n",
      "    :Donor: Michael Marshall (MARSHALL%PLU@io.arc.nasa.gov)\n",
      "    :Date: July, 1988\n",
      "\n",
      "The famous Iris database, first used by Sir R.A. Fisher. The dataset is taken\n",
      "from Fisher's paper. Note that it's the same as in R, but not as in the UCI\n",
      "Machine Learning Repository, which has two wrong data points.\n",
      "\n",
      "This is perhaps the best known database to be found in the\n",
      "pattern recognition literature.  Fisher's paper is a classic in the field and\n",
      "is referenced frequently to this day.  (See Duda & Hart, for example.)  The\n",
      "data set contains 3 classes of 50 instances each, where each class refers to a\n",
      "type of iris plant.  One class is linearly separable from the other 2; the\n",
      "latter are NOT linearly separable from each other.\n",
      "\n",
      ".. topic:: References\n",
      "\n",
      "   - Fisher, R.A. \"The use of multiple measurements in taxonomic problems\"\n",
      "     Annual Eugenics, 7, Part II, 179-188 (1936); also in \"Contributions to\n",
      "     Mathematical Statistics\" (John Wiley, NY, 1950).\n",
      "   - Duda, R.O., & Hart, P.E. (1973) Pattern Classification and Scene Analysis.\n",
      "     (Q327.D83) John Wiley & Sons.  ISBN 0-471-22361-1.  See page 218.\n",
      "   - Dasarathy, B.V. (1980) \"Nosing Around the Neighborhood: A New System\n",
      "     Structure and Classification Rule for Recognition in Partially Exposed\n",
      "     Environments\".  IEEE Transactions on Pattern Analysis and Machine\n",
      "     Intelligence, Vol. PAMI-2, No. 1, 67-71.\n",
      "   - Gates, G.W. (1972) \"The Reduced Nearest Neighbor Rule\".  IEEE Transactions\n",
      "     on Information Theory, May 1972, 431-433.\n",
      "   - See also: 1988 MLC Proceedings, 54-64.  Cheeseman et al\"s AUTOCLASS II\n",
      "     conceptual clustering system finds 3 classes in the data.\n",
      "   - Many, many more ...\n"
     ]
    }
   ],
   "source": [
    "iris = load_iris()\n",
    "training_data, test_data, training_labels, test_labels = train_test_split(iris.data, iris.target, test_size=0.33) #split the set in 2/3 training and 1/3 test\n",
    "print(iris.DESCR)"
   ]
  },
  {
   "cell_type": "code",
   "execution_count": 292,
   "metadata": {},
   "outputs": [],
   "source": [
    "class MSELinearClassifier:\n",
    "    def __init__(self, alpha = 0.01, n_iter = 10000, threshold = 1e-3):\n",
    "        self.alpha = alpha\n",
    "        self.n_iter = n_iter\n",
    "        self.threshold = threshold\n",
    "        self.fitted = False\n",
    "\n",
    "    def fit(self, data, targets):\n",
    "        \"\"\"\n",
    "        Fit a linear classifier to the provided data.\n",
    "\n",
    "        data: shape N x n_features\n",
    "        targets: shape N\n",
    "        \"\"\"\n",
    "        self.fitted = True\n",
    "        \n",
    "        self.target_set = list(set(targets)) #to use .index() function we wrap as list\n",
    "        self.n_classes = len(self.target_set)\n",
    "        self.n_features = data.shape[1]\n",
    "        N = data.shape[0]\n",
    "\n",
    "        one_hot_targets = self._one_hot_encode_targets(targets)\n",
    "\n",
    "        self.w = np.zeros((self.n_classes, self.n_features))\n",
    "        self.offset = np.zeros(self.n_classes)\n",
    "\n",
    "        data1 = np.hstack([data, np.ones((N,1))])\n",
    "\n",
    "        pred = self.predict(data)\n",
    "        for iter in range(self.n_iter):        \n",
    "            \n",
    "            grad_part1 = (pred - one_hot_targets)*pred*(1 - pred)\n",
    "\n",
    "            # gradient = 0\n",
    "            # for k in range(N):\n",
    "            #     gradient += np.outer(grad_part1[k], data1[k])\n",
    "\n",
    "            gradient = np.einsum('ij,ik -> jk', grad_part1, data1) #this vectorizes the above loop\n",
    "            \n",
    "            update = -self.alpha*gradient\n",
    "\n",
    "            self.w += update[:, :-1]\n",
    "            self.offset += update[:, -1]\n",
    "\n",
    "            pred = self.predict(data)\n",
    "\n",
    "            if np.linalg.norm(update) < self.threshold:\n",
    "                print(f\"Fitting converged after {iter} iterations.\")\n",
    "                break\n",
    "            \n",
    "        loss = self.loss(pred, one_hot_targets)\n",
    "        return loss\n",
    "    \n",
    "\n",
    "    def _one_hot_encode_targets(self, targets):\n",
    "        encoded = np.zeros((targets.shape[0], self.n_classes))\n",
    "\n",
    "        for i in range(targets.shape[0]): #not neccessarily integer labels\n",
    "            j = self.target_set.index(targets[i])\n",
    "            encoded[i, j] = 1\n",
    "\n",
    "        return encoded\n",
    "    \n",
    "    def _sigmoid(self, x):\n",
    "        return 1/(1 + np.exp(-x))\n",
    "\n",
    "    def predict(self, data, get_class = False):\n",
    "        if not self.fitted:\n",
    "            raise RuntimeError(\"The model must be fitted before predictions can be made\")\n",
    "        \n",
    "        one_hot_preds = self._sigmoid(self.w@data.T + self.offset[:, np.newaxis]).T\n",
    "\n",
    "        if get_class:\n",
    "            return self.get_class(one_hot_preds)\n",
    "        \n",
    "        return one_hot_preds\n",
    "    \n",
    "    def loss(self, pred, truth):\n",
    "        return 0.5*np.sum((pred - truth)**2)\n",
    "    \n",
    "    def get_class(self, predicted):\n",
    "        targets = np.array(self.target_set)\n",
    "        return targets[np.argmax(predicted, axis=1)]\n",
    "    \n",
    "    def score(self, test_data, test_labels):\n",
    "        N = len(test_labels)\n",
    "        preds = self.predict(test_data, get_class=True)\n",
    "        return 1 - np.count_nonzero(test_labels - preds)/N\n"
   ]
  },
  {
   "cell_type": "code",
   "execution_count": 293,
   "metadata": {},
   "outputs": [],
   "source": [
    "def plot_confusion_matrix(conf_matrix, score = None, plot = True, filename = None):    \n",
    "    plt.figure(figsize=(8,8)) #size in inches\n",
    "    sns.heatmap(conf_matrix, annot=True, linewidths=.5, square = True, cmap = 'Blues_r', xticklabels=iris.target_names, yticklabels=iris.target_names)\n",
    "    plt.ylabel('Actual label', size=15)\n",
    "    plt.xlabel('Predicted label', size=15)\n",
    "    if score is not None:\n",
    "        plt.title('Accuracy Score: {fscore:.{precision}f}%'.format(fscore = score*100, precision = 1), size = 20)\n",
    "    if filename is not None:\n",
    "        plt.savefig(filename)\n",
    "    if plot:\n",
    "        plt.show()\n",
    "    plt.close()"
   ]
  },
  {
   "cell_type": "code",
   "execution_count": 294,
   "metadata": {},
   "outputs": [
    {
     "name": "stdout",
     "output_type": "stream",
     "text": [
      "Fitting converged after 3523 iterations.\n",
      "[[ 0.4218759   1.90500169 -2.76723423 -1.3223678 ]\n",
      " [ 0.49696649 -2.57616547  1.38918859 -3.75919511]\n",
      " [-3.00414764 -2.43822837  4.17194152  5.28190072]] [ 0.2829575   3.43805106 -3.46519352]\n"
     ]
    },
    {
     "data": {
      "image/png": "[encoded data removed]",
      "text/plain": [
       "<Figure size 800x800 with 2 Axes>"
      ]
     },
     "metadata": {},
     "output_type": "display_data"
    }
   ],
   "source": [
    "classifier = MSELinearClassifier()\n",
    "\n",
    "classifier.fit(training_data, training_labels)\n",
    "\n",
    "print(classifier.w, classifier.offset)\n",
    "\n",
    "score = classifier.score(test_data, test_labels)\n",
    "\n",
    "pred = classifier.predict(test_data, get_class = True)\n",
    "conf_matrix = confusion_matrix(test_labels, pred)\n",
    "plot_confusion_matrix(conf_matrix, score)"
   ]
  },
  {
   "cell_type": "code",
   "execution_count": 295,
   "metadata": {},
   "outputs": [],
   "source": [
    "def linearClassification(classifier):\n",
    "    name = classifier.__class__.__name__ \n",
    "    classifier.fit(training_data, training_labels)\n",
    "    print(\"--------\" + name + \"--------\")\n",
    "   \n",
    "    score = classifier.score(test_data, test_labels)\n",
    "    print(\"Accuracy:\", score*100, \"%\")\n",
    "\n",
    "    return score, name"
   ]
  },
  {
   "cell_type": "code",
   "execution_count": 296,
   "metadata": {},
   "outputs": [
    {
     "name": "stdout",
     "output_type": "stream",
     "text": [
      "--------LinearSVC--------\n",
      "Accuracy: 96.0 %\n",
      "--------LogisticRegression--------\n",
      "Accuracy: 98.0 %\n",
      "--------Perceptron--------\n",
      "Accuracy: 94.0 %\n",
      "--------PassiveAggressiveClassifier--------\n",
      "Accuracy: 94.0 %\n",
      "--------RidgeClassifier--------\n",
      "Accuracy: 84.0 %\n"
     ]
    },
    {
     "name": "stderr",
     "output_type": "stream",
     "text": [
      "/usr/local/lib/python3.9/dist-packages/sklearn/svm/_base.py:1244: ConvergenceWarning: Liblinear failed to converge, increase the number of iterations.\n",
      "  warnings.warn(\n"
     ]
    }
   ],
   "source": [
    "from sklearn.linear_model import LogisticRegression, Perceptron, PassiveAggressiveClassifier, RidgeClassifier\n",
    "from sklearn.svm import LinearSVC\n",
    "\n",
    "classifiers = [LinearSVC(), LogisticRegression(), Perceptron(), PassiveAggressiveClassifier(), RidgeClassifier()]\n",
    "\n",
    "scores = []\n",
    "names = []\n",
    "\n",
    "for c in classifiers:\n",
    "    score, name = linearClassification(c)\n",
    "    scores.append(score)\n",
    "    names.append(name)"
   ]
  }
 ],
 "metadata": {
  "kernelspec": {
   "display_name": "Python 3",
   "language": "python",
   "name": "python3"
  },
  "language_info": {
   "codemirror_mode": {
    "name": "ipython",
    "version": 3
   },
   "file_extension": ".py",
   "mimetype": "text/x-python",
   "name": "python",
   "nbconvert_exporter": "python",
   "pygments_lexer": "ipython3",
   "version": "3.9.16"
  },
  "orig_nbformat": 4
 },
 "nbformat": 4,
 "nbformat_minor": 2
}
